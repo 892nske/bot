{
 "cells": [
  {
   "cell_type": "code",
   "execution_count": 1,
   "id": "valid-george",
   "metadata": {},
   "outputs": [],
   "source": [
    "import os\n",
    "import psycopg2\n",
    "import requests\n",
    "import json\n",
    "import datetime\n",
    "from pytz import timezone\n",
    "import pandas as pd\n",
    "import requests"
   ]
  },
  {
   "cell_type": "code",
   "execution_count": 3,
   "id": "bcd64a9a-1a17-4603-b8e1-6898b6212bc9",
   "metadata": {},
   "outputs": [],
   "source": [
    "rate = requests.get('https://api.coin.z.com/public/v1/ticker?symbol=').json()\n",
    "df_rate = pd.DataFrame(rate['data'])\n"
   ]
  },
  {
   "cell_type": "code",
   "execution_count": 9,
   "id": "medical-january",
   "metadata": {},
   "outputs": [],
   "source": [
    "host=\"rdsnske.c7sczatjnphy.ap-northeast-1.rds.amazonaws.com\"\n",
    "dbname=\"bot\"\n",
    "user=\"rdsuser\"\n",
    "password=\"rds%5678\"\n",
    "insert_base = \"insert into gmo_rate values('{basetime}','{symbol}','{ask}','{bid}','{high}','{last}','{low}','{volume}');\""
   ]
  },
  {
   "cell_type": "code",
   "execution_count": 10,
   "id": "affiliated-confidence",
   "metadata": {},
   "outputs": [],
   "source": [
    "# データをDBに登録\n",
    "with psycopg2.connect(host=host, dbname=dbname, user=user, password=password) as conn:\n",
    "    with conn.cursor() as cur:\n",
    "        basetime = datetime.datetime.now()\n",
    "        basetime = basetime.astimezone(timezone('UTC'))\n",
    "        basetime = datetime.datetime.strftime(basetime, '%Y-%m-%dT%H:%M:00')\n",
    "        for d in df_rate.itertuples():\n",
    "            insert_sql = insert_base.format(basetime=basetime\n",
    "                                            ,symbol=d.symbol\n",
    "                                            ,ask=d.ask\n",
    "                                            ,bid=d.bid\n",
    "                                            ,high=d.high\n",
    "                                            ,last=d.last\n",
    "                                            ,low=d.low\n",
    "                                            ,volume=d.volume)\n",
    "            cur.execute(insert_sql)\n",
    "    conn.commit()"
   ]
  },
  {
   "cell_type": "code",
   "execution_count": 11,
   "id": "noted-potato",
   "metadata": {},
   "outputs": [
    {
     "name": "stdout",
     "output_type": "stream",
     "text": [
      "insert into gmo_rate values('2021-11-03T03:46:00','XYM','45.687','45.537','45.85','45.541','43.7','7543850');\n"
     ]
    }
   ],
   "source": [
    "print(insert_sql)"
   ]
  }
 ],
 "metadata": {
  "kernelspec": {
   "display_name": "Python 3 (ipykernel)",
   "language": "python",
   "name": "python3"
  },
  "language_info": {
   "codemirror_mode": {
    "name": "ipython",
    "version": 3
   },
   "file_extension": ".py",
   "mimetype": "text/x-python",
   "name": "python",
   "nbconvert_exporter": "python",
   "pygments_lexer": "ipython3",
   "version": "3.8.12"
  }
 },
 "nbformat": 4,
 "nbformat_minor": 5
}
