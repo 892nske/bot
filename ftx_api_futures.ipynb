{
 "cells": [
  {
   "cell_type": "code",
   "execution_count": 1,
   "id": "valid-george",
   "metadata": {},
   "outputs": [],
   "source": [
    "import os\n",
    "import psycopg2\n",
    "import requests\n",
    "import json\n",
    "import datetime\n",
    "from pytz import timezone\n",
    "import pandas as pd\n",
    "import requests"
   ]
  },
  {
   "cell_type": "code",
   "execution_count": 2,
   "id": "nearby-person",
   "metadata": {},
   "outputs": [],
   "source": [
    "futures = requests.get('https://ftx.com/api/futures').json()\n",
    "df_futures = pd.DataFrame(futures['result'])\n",
    "df_futures.set_index('name', inplace = True)\n",
    "df_futures['symbol'] = df_futures.index"
   ]
  },
  {
   "cell_type": "code",
   "execution_count": 3,
   "id": "great-brisbane",
   "metadata": {},
   "outputs": [],
   "source": [
    "df_futures_db = df_futures.query('type != \"move\" & underlyingDescription == \"Bitcoin\"')"
   ]
  },
  {
   "cell_type": "code",
   "execution_count": 4,
   "id": "rational-plasma",
   "metadata": {},
   "outputs": [],
   "source": [
    "db_columns = ['symbol','expiry','last','bid','ask','index','mark','lowerBound','upperBound','marginPrice','change1h','change24h','changeBod','volumeUsd24h','volume','openInterest','openInterestUsd']"
   ]
  },
  {
   "cell_type": "code",
   "execution_count": 5,
   "id": "acceptable-arctic",
   "metadata": {},
   "outputs": [],
   "source": [
    "df_futures_db = df_futures_db[db_columns]"
   ]
  },
  {
   "cell_type": "code",
   "execution_count": 7,
   "id": "medical-january",
   "metadata": {},
   "outputs": [],
   "source": [
    "host=\"rdsnske.c7sczatjnphy.ap-northeast-1.rds.amazonaws.com\"\n",
    "dbname=\"bot\"\n",
    "user=\"rdsuser\"\n",
    "password=\"rds%5678\"\n",
    "insert_base = \"insert into ftx_futures_btc values('{basetime}','{symbol}','{expiry}','{last}','{bid}','{ask}','{index}','{mark}','{lowerBound}','{upperBound}','{marginPrice}','{change1h}','{change24h}','{changeBod}','{volumeUsd24h}','{volume}','{openInterest}','{openInterestUsd}');\""
   ]
  },
  {
   "cell_type": "code",
   "execution_count": 10,
   "id": "affiliated-confidence",
   "metadata": {},
   "outputs": [],
   "source": [
    "# データをDBに登録\n",
    "with psycopg2.connect(host=host, dbname=dbname, user=user, password=password) as conn:\n",
    "    with conn.cursor() as cur:\n",
    "        basetime = datetime.datetime.now()\n",
    "        basetime = basetime.astimezone(timezone('UTC'))\n",
    "        basetime = datetime.datetime.strftime(basetime, '%Y-%m-%dT%H:%M:00')\n",
    "        for d in df_futures_db.itertuples():\n",
    "            insert_sql = insert_base.format(basetime=basetime\n",
    "                                            ,symbol=d.symbol\n",
    "                                            ,expiry=d.expiry\n",
    "                                            ,last=d.last\n",
    "                                            ,bid=d.bid\n",
    "                                            ,ask=d.ask\n",
    "                                            ,index=d.index\n",
    "                                            ,mark=d.mark\n",
    "                                            ,lowerBound=d.lowerBound\n",
    "                                            ,upperBound=d.upperBound\n",
    "                                            ,marginPrice=d.marginPrice\n",
    "                                            ,change1h=d.change1h\n",
    "                                            ,change24h=d.change24h\n",
    "                                            ,changeBod=d.changeBod\n",
    "                                            ,volumeUsd24h=d.volumeUsd24h\n",
    "                                            ,volume=d.volume\n",
    "                                            ,openInterest=d.openInterest\n",
    "                                            ,openInterestUsd=d.openInterestUsd)\n",
    "            insert_sql = insert_sql.replace('None','2099-12-31T00:00:00')\n",
    "            cur.execute(insert_sql)\n",
    "    conn.commit()"
   ]
  },
  {
   "cell_type": "code",
   "execution_count": 23,
   "id": "noted-potato",
   "metadata": {},
   "outputs": [
    {
     "name": "stdout",
     "output_type": "stream",
     "text": [
      "None\n",
      "2021-09-24T03:00:00+00:00\n",
      "2021-12-31T03:00:00+00:00\n",
      "2022-03-25T03:00:00+00:00\n"
     ]
    }
   ],
   "source": [
    "for row in df_futures_db.itertuples():\n",
    "    print(row.expiry)"
   ]
  },
  {
   "cell_type": "code",
   "execution_count": 28,
   "id": "rational-jonathan",
   "metadata": {},
   "outputs": [
    {
     "name": "stdout",
     "output_type": "stream",
     "text": [
      "insert into ftx_futures_btc values('2021-09-03T00:10:00','BTC-PERP','2099-12-31T00:00:00','50437.0','50436.0','50437.0','50346.579013327275','50440.0','47830.0','52936.0','50440.0','0.006465001197222444','0.062118340703305956','0.03407273770962319','4675678176.9091','95017.7758','42862.59','2161989039.6');\n"
     ]
    }
   ],
   "source": [
    "print(insert_sql)"
   ]
  },
  {
   "cell_type": "code",
   "execution_count": 6,
   "id": "domestic-contract",
   "metadata": {},
   "outputs": [],
   "source": [
    "basetime = datetime.datetime.now()\n",
    "basetime = basetime.astimezone(timezone('Asia/Tokyo'))"
   ]
  }
 ],
 "metadata": {
  "kernelspec": {
   "display_name": "Python 3",
   "language": "python",
   "name": "python3"
  },
  "language_info": {
   "codemirror_mode": {
    "name": "ipython",
    "version": 3
   },
   "file_extension": ".py",
   "mimetype": "text/x-python",
   "name": "python",
   "nbconvert_exporter": "python",
   "pygments_lexer": "ipython3",
   "version": "3.7.9"
  }
 },
 "nbformat": 4,
 "nbformat_minor": 5
}
