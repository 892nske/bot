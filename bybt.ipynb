{
 "cells": [
  {
   "cell_type": "code",
   "execution_count": 17,
   "id": "supposed-canberra",
   "metadata": {},
   "outputs": [
    {
     "name": "stdout",
     "output_type": "stream",
     "text": [
      "Collecting chromedriver-binary==92.0.4515.107\n",
      "  Downloading chromedriver-binary-92.0.4515.107.0.tar.gz (4.9 kB)\n",
      "Building wheels for collected packages: chromedriver-binary\n",
      "  Building wheel for chromedriver-binary (setup.py) ... \u001b[?25ldone\n",
      "\u001b[?25h  Created wheel for chromedriver-binary: filename=chromedriver_binary-92.0.4515.107.0-py3-none-any.whl size=5988565 sha256=353ab0e231cf4829538be68673821e6297ebf32114fe7c6ddd96934538ed7230\n",
      "  Stored in directory: /home/nske/.cache/pip/wheels/5b/60/7a/fd7f3ecc6f0aa0ec312bbcc9e8ae5e386003519631309fe3a9\n",
      "Successfully built chromedriver-binary\n",
      "Installing collected packages: chromedriver-binary\n",
      "Successfully installed chromedriver-binary-92.0.4515.107.0\n"
     ]
    }
   ],
   "source": [
    "!pip install chromedriver-binary==92.0.4515.107"
   ]
  },
  {
   "cell_type": "code",
   "execution_count": 16,
   "id": "unauthorized-origin",
   "metadata": {},
   "outputs": [
    {
     "name": "stdout",
     "output_type": "stream",
     "text": [
      "Found existing installation: chromedriver-binary 93.0.4577.15.0\n",
      "Uninstalling chromedriver-binary-93.0.4577.15.0:\n",
      "  Would remove:\n",
      "    /home/nske/miniconda3/envs/jp/bin/chromedriver-path\n",
      "    /home/nske/miniconda3/envs/jp/lib/python3.7/site-packages/chromedriver_binary-93.0.4577.15.0.dist-info/*\n",
      "    /home/nske/miniconda3/envs/jp/lib/python3.7/site-packages/chromedriver_binary/*\n",
      "Proceed (y/n)? ^C\n",
      "\u001b[31mERROR: Operation cancelled by user\u001b[0m\n"
     ]
    }
   ],
   "source": [
    "!pip uninstall chromedriver-binary"
   ]
  },
  {
   "cell_type": "code",
   "execution_count": 1,
   "id": "informative-recommendation",
   "metadata": {},
   "outputs": [],
   "source": [
    "import traceback\n",
    "from selenium import webdriver\n",
    "from selenium.webdriver.chrome.options import Options\n",
    "import chromedriver_binary\n",
    "import time\n",
    "import pandas as pd"
   ]
  },
  {
   "cell_type": "code",
   "execution_count": 2,
   "id": "expressed-dining",
   "metadata": {},
   "outputs": [
    {
     "name": "stdout",
     "output_type": "stream",
     "text": [
      "1BTC(JPY): 5153109\n"
     ]
    }
   ],
   "source": [
    "# 通貨設定\n",
    "crypto = 'BTC'\n",
    "currency = 'JPY'\n",
    "\n",
    "# 価格の取得先\n",
    "url = 'https://coinyep.com/ja/ex/' + crypto + '-' + currency\n",
    "\n",
    "# 取得結果\n",
    "current_value = ''\n",
    "\n",
    "options = Options()\n",
    "# ヘッドレスモードで実行する場合\n",
    "options.add_argument(\"--headless\")\n",
    "driver = webdriver.Chrome(options=options)\n",
    "\n",
    "try:\n",
    "\t# 取得先URLにアクセス\n",
    "\tdriver.get(url)\n",
    "\t\n",
    "\t# コンテンツが描画されるまで待機\n",
    "\ttime.sleep(10)\n",
    "\n",
    "\t# 対象を抽出\n",
    "\tvalues = driver.find_element_by_id(\"coinyep-reverse1\")\n",
    "\tcurrent_value = str(values.text)\n",
    "\tcurrent_value = current_value.replace('1 ' + crypto + ' = ', '')\n",
    "\tcurrent_value = current_value.replace(' ' + currency, '')\n",
    "finally:\n",
    "\t# プラウザを閉じる\n",
    "\tdriver.quit()\n",
    "\n",
    "# 取得結果\n",
    "print('1' + crypto + '(' + currency + '): ' + str(current_value))"
   ]
  },
  {
   "cell_type": "code",
   "execution_count": 3,
   "id": "acoustic-indication",
   "metadata": {},
   "outputs": [
    {
     "name": "stdout",
     "output_type": "stream",
     "text": [
      "1\n",
      "25.13%\n",
      "Binance\n",
      "BTC-USDT\n",
      "46916.67\n",
      "11.45B\n",
      "48.75\n",
      "51.25\n",
      "12.04B\n",
      "23.49B\n",
      "0.0100%\n",
      "2.94B\n"
     ]
    }
   ],
   "source": [
    "url = 'https://www.bybt.com/'\n",
    "\n",
    "# 取得結果\n",
    "columns = ['Rank','OI','Site','Pair','Price','Long_24h_v','Long_24h_r','Short_24h_r','Short_24h_v','Volume_24h','Funding','Open_Interest']\n",
    "df = pd.DataFrame(columns=columns)\n",
    "\n",
    "options = Options()\n",
    "# ヘッドレスモードで実行する場合\n",
    "options.add_argument(\"--headless\")\n",
    "driver = webdriver.Chrome(options=options)\n",
    "\n",
    "\n",
    "try:\n",
    "    # 取得先URLにアクセス\n",
    "    driver.get(url)\n",
    "    \n",
    "    # コンテンツが描画されるまで待機\n",
    "    time.sleep(10)\n",
    "\n",
    "    # 対象を抽出\n",
    "    values = driver.find_element_by_class_name(\"ivu-layout-content\")\n",
    "    table = values.find_elements_by_tag_name(\"table\")\n",
    "    trs = table[1].find_elements_by_tag_name(\"tr\")\n",
    "    tds = trs[0].find_elements_by_tag_name(\"td\")\n",
    "    for td in tds:\n",
    "        print(td.text)\n",
    "    \n",
    "    for tr in trs:\n",
    "        tdl = []\n",
    "        tds = tr.find_elements_by_tag_name(\"td\")\n",
    "        for td in tds:\n",
    "            tdl.append(td.text)\n",
    "        df = df.append(pd.Series(tdl, index=columns), ignore_index= True)\n",
    "        \n",
    "#     cv = str(tds[1].text)\n",
    "#     for tr in trs:\n",
    "#         trs[0].find_elements_by_tag_name(\"td\")\n",
    "#         for td in tds:\n",
    "            \n",
    "finally:\n",
    "    # プラウザを閉じる\n",
    "    driver.quit()\n",
    "\n",
    "# 取得結果\n",
    "# print(str(tds[1].text))"
   ]
  },
  {
   "cell_type": "code",
   "execution_count": 51,
   "id": "protecting-alberta",
   "metadata": {},
   "outputs": [],
   "source": [
    "lt = []"
   ]
  },
  {
   "cell_type": "code",
   "execution_count": 53,
   "id": "associate-tiger",
   "metadata": {},
   "outputs": [],
   "source": [
    "lt.append('rr')"
   ]
  },
  {
   "cell_type": "code",
   "execution_count": null,
   "id": "distinct-armenia",
   "metadata": {},
   "outputs": [],
   "source": []
  }
 ],
 "metadata": {
  "kernelspec": {
   "display_name": "Python 3",
   "language": "python",
   "name": "python3"
  },
  "language_info": {
   "codemirror_mode": {
    "name": "ipython",
    "version": 3
   },
   "file_extension": ".py",
   "mimetype": "text/x-python",
   "name": "python",
   "nbconvert_exporter": "python",
   "pygments_lexer": "ipython3",
   "version": "3.7.9"
  }
 },
 "nbformat": 4,
 "nbformat_minor": 5
}
